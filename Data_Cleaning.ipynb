{
 "cells": [
  {
   "cell_type": "code",
   "execution_count": 156,
   "id": "1e679dff-a104-4fc7-bd36-c4e6ed7a6e63",
   "metadata": {},
   "outputs": [],
   "source": [
    "import pandas as pd"
   ]
  },
  {
   "cell_type": "markdown",
   "id": "6d974421-ea7a-47fb-b419-984503b436d8",
   "metadata": {},
   "source": [
    "<h1>1. Data Cleaning</h1>"
   ]
  },
  {
   "cell_type": "code",
   "execution_count": 158,
   "id": "daf12f55-b0fe-4304-821f-f843ff1f9980",
   "metadata": {},
   "outputs": [],
   "source": [
    "df_historical_data=pd.read_csv('all_fifa_wc_resultsdata.csv')\n",
    "df_fixture2022=pd.read_csv('2022fifa_wc_fixtures.csv')\n",
    "df_missing_data=pd.read_csv('fifa_worldcup_missing_data.csv')"
   ]
  },
  {
   "cell_type": "code",
   "execution_count": 159,
   "id": "14fe1a4f-00d8-45db-937d-9254acba3a32",
   "metadata": {},
   "outputs": [
    {
     "data": {
      "text/html": [
       "<div>\n",
       "<style scoped>\n",
       "    .dataframe tbody tr th:only-of-type {\n",
       "        vertical-align: middle;\n",
       "    }\n",
       "\n",
       "    .dataframe tbody tr th {\n",
       "        vertical-align: top;\n",
       "    }\n",
       "\n",
       "    .dataframe thead th {\n",
       "        text-align: right;\n",
       "    }\n",
       "</style>\n",
       "<table border=\"1\" class=\"dataframe\">\n",
       "  <thead>\n",
       "    <tr style=\"text-align: right;\">\n",
       "      <th></th>\n",
       "      <th>home</th>\n",
       "      <th>score</th>\n",
       "      <th>away</th>\n",
       "      <th>year</th>\n",
       "    </tr>\n",
       "  </thead>\n",
       "  <tbody>\n",
       "    <tr>\n",
       "      <th>0</th>\n",
       "      <td>Mexico</td>\n",
       "      <td>0–0</td>\n",
       "      <td>Soviet Union</td>\n",
       "      <td>1970</td>\n",
       "    </tr>\n",
       "    <tr>\n",
       "      <th>1</th>\n",
       "      <td>Belgium</td>\n",
       "      <td>3–0</td>\n",
       "      <td>El Salvador</td>\n",
       "      <td>1970</td>\n",
       "    </tr>\n",
       "    <tr>\n",
       "      <th>2</th>\n",
       "      <td>Soviet Union</td>\n",
       "      <td>4–1</td>\n",
       "      <td>Belgium</td>\n",
       "      <td>1970</td>\n",
       "    </tr>\n",
       "    <tr>\n",
       "      <th>3</th>\n",
       "      <td>Mexico</td>\n",
       "      <td>4–0</td>\n",
       "      <td>El Salvador</td>\n",
       "      <td>1970</td>\n",
       "    </tr>\n",
       "    <tr>\n",
       "      <th>4</th>\n",
       "      <td>Soviet Union</td>\n",
       "      <td>2–0</td>\n",
       "      <td>El Salvador</td>\n",
       "      <td>1970</td>\n",
       "    </tr>\n",
       "    <tr>\n",
       "      <th>...</th>\n",
       "      <td>...</td>\n",
       "      <td>...</td>\n",
       "      <td>...</td>\n",
       "      <td>...</td>\n",
       "    </tr>\n",
       "    <tr>\n",
       "      <th>503</th>\n",
       "      <td>Spain</td>\n",
       "      <td>0–1</td>\n",
       "      <td>Switzerland</td>\n",
       "      <td>2010</td>\n",
       "    </tr>\n",
       "    <tr>\n",
       "      <th>504</th>\n",
       "      <td>Chile</td>\n",
       "      <td>1–0</td>\n",
       "      <td>Switzerland</td>\n",
       "      <td>2010</td>\n",
       "    </tr>\n",
       "    <tr>\n",
       "      <th>505</th>\n",
       "      <td>Spain</td>\n",
       "      <td>2–0</td>\n",
       "      <td>Honduras</td>\n",
       "      <td>2010</td>\n",
       "    </tr>\n",
       "    <tr>\n",
       "      <th>506</th>\n",
       "      <td>Chile</td>\n",
       "      <td>1–2</td>\n",
       "      <td>Spain</td>\n",
       "      <td>2010</td>\n",
       "    </tr>\n",
       "    <tr>\n",
       "      <th>507</th>\n",
       "      <td>Switzerland</td>\n",
       "      <td>0–0</td>\n",
       "      <td>Honduras</td>\n",
       "      <td>2010</td>\n",
       "    </tr>\n",
       "  </tbody>\n",
       "</table>\n",
       "<p>508 rows × 4 columns</p>\n",
       "</div>"
      ],
      "text/plain": [
       "              home score           away  year\n",
       "0          Mexico    0–0   Soviet Union  1970\n",
       "1         Belgium    3–0    El Salvador  1970\n",
       "2    Soviet Union    4–1        Belgium  1970\n",
       "3          Mexico    4–0    El Salvador  1970\n",
       "4    Soviet Union    2–0    El Salvador  1970\n",
       "..             ...   ...            ...   ...\n",
       "503         Spain    0–1    Switzerland  2010\n",
       "504         Chile    1–0    Switzerland  2010\n",
       "505         Spain    2–0       Honduras  2010\n",
       "506         Chile    1–2          Spain  2010\n",
       "507   Switzerland    0–0       Honduras  2010\n",
       "\n",
       "[508 rows x 4 columns]"
      ]
     },
     "execution_count": 159,
     "metadata": {},
     "output_type": "execute_result"
    }
   ],
   "source": [
    "df_missing_data"
   ]
  },
  {
   "cell_type": "markdown",
   "id": "927bf844",
   "metadata": {},
   "source": [
    "<h3>1.1 Cleaning df_fixture2022<h3>"
   ]
  },
  {
   "cell_type": "code",
   "execution_count": 160,
   "id": "6a2e6cab",
   "metadata": {},
   "outputs": [],
   "source": [
    "df_fixture2022['home'] = df_fixture2022['home'].str.strip()\n",
    "df_fixture2022['away'] = df_fixture2022['away'].str.strip()"
   ]
  },
  {
   "cell_type": "markdown",
   "id": "bfb038b8",
   "metadata": {},
   "source": [
    "<h3>1.2 Cleaning the missing data and adding it to df_historical_data<h3>"
   ]
  },
  {
   "cell_type": "code",
   "execution_count": 161,
   "id": "f9228502",
   "metadata": {},
   "outputs": [
    {
     "data": {
      "text/html": [
       "<div>\n",
       "<style scoped>\n",
       "    .dataframe tbody tr th:only-of-type {\n",
       "        vertical-align: middle;\n",
       "    }\n",
       "\n",
       "    .dataframe tbody tr th {\n",
       "        vertical-align: top;\n",
       "    }\n",
       "\n",
       "    .dataframe thead th {\n",
       "        text-align: right;\n",
       "    }\n",
       "</style>\n",
       "<table border=\"1\" class=\"dataframe\">\n",
       "  <thead>\n",
       "    <tr style=\"text-align: right;\">\n",
       "      <th></th>\n",
       "      <th>home</th>\n",
       "      <th>score</th>\n",
       "      <th>away</th>\n",
       "      <th>year</th>\n",
       "    </tr>\n",
       "  </thead>\n",
       "  <tbody>\n",
       "    <tr>\n",
       "      <th>0</th>\n",
       "      <td>France</td>\n",
       "      <td>4–1</td>\n",
       "      <td>Mexico</td>\n",
       "      <td>1930</td>\n",
       "    </tr>\n",
       "    <tr>\n",
       "      <th>1</th>\n",
       "      <td>Argentina</td>\n",
       "      <td>1–0</td>\n",
       "      <td>France</td>\n",
       "      <td>1930</td>\n",
       "    </tr>\n",
       "    <tr>\n",
       "      <th>2</th>\n",
       "      <td>Chile</td>\n",
       "      <td>3–0</td>\n",
       "      <td>Mexico</td>\n",
       "      <td>1930</td>\n",
       "    </tr>\n",
       "    <tr>\n",
       "      <th>3</th>\n",
       "      <td>Chile</td>\n",
       "      <td>1–0</td>\n",
       "      <td>France</td>\n",
       "      <td>1930</td>\n",
       "    </tr>\n",
       "    <tr>\n",
       "      <th>4</th>\n",
       "      <td>Argentina</td>\n",
       "      <td>6–3</td>\n",
       "      <td>Mexico</td>\n",
       "      <td>1930</td>\n",
       "    </tr>\n",
       "    <tr>\n",
       "      <th>...</th>\n",
       "      <td>...</td>\n",
       "      <td>...</td>\n",
       "      <td>...</td>\n",
       "      <td>...</td>\n",
       "    </tr>\n",
       "    <tr>\n",
       "      <th>413</th>\n",
       "      <td>Argentina</td>\n",
       "      <td>0–3</td>\n",
       "      <td>Croatia</td>\n",
       "      <td>2018</td>\n",
       "    </tr>\n",
       "    <tr>\n",
       "      <th>412</th>\n",
       "      <td>Croatia</td>\n",
       "      <td>2–0</td>\n",
       "      <td>Nigeria</td>\n",
       "      <td>2018</td>\n",
       "    </tr>\n",
       "    <tr>\n",
       "      <th>411</th>\n",
       "      <td>Argentina</td>\n",
       "      <td>1–1</td>\n",
       "      <td>Iceland</td>\n",
       "      <td>2018</td>\n",
       "    </tr>\n",
       "    <tr>\n",
       "      <th>410</th>\n",
       "      <td>Australia</td>\n",
       "      <td>0–2</td>\n",
       "      <td>Peru</td>\n",
       "      <td>2018</td>\n",
       "    </tr>\n",
       "    <tr>\n",
       "      <th>409</th>\n",
       "      <td>Denmark</td>\n",
       "      <td>0–0</td>\n",
       "      <td>France</td>\n",
       "      <td>2018</td>\n",
       "    </tr>\n",
       "  </tbody>\n",
       "</table>\n",
       "<p>901 rows × 4 columns</p>\n",
       "</div>"
      ],
      "text/plain": [
       "           home score      away  year\n",
       "0       France    4–1    Mexico  1930\n",
       "1    Argentina    1–0    France  1930\n",
       "2        Chile    3–0    Mexico  1930\n",
       "3        Chile    1–0    France  1930\n",
       "4    Argentina    6–3    Mexico  1930\n",
       "..          ...   ...       ...   ...\n",
       "413  Argentina    0–3   Croatia  2018\n",
       "412    Croatia    2–0   Nigeria  2018\n",
       "411  Argentina    1–1   Iceland  2018\n",
       "410  Australia    0–2      Peru  2018\n",
       "409    Denmark    0–0    France  2018\n",
       "\n",
       "[901 rows x 4 columns]"
      ]
     },
     "execution_count": 161,
     "metadata": {},
     "output_type": "execute_result"
    }
   ],
   "source": [
    "#Null Data\n",
    "#df_missing_data[df_missing_data['home'].isnull()]\n",
    "\n",
    "#Drop Null Data\n",
    "df_missing_data.dropna(inplace=True)\n",
    "\n",
    "#Concatenating  missing data and historival data and cleaning them\n",
    "\n",
    "df_historical_data = pd.concat([df_historical_data,df_missing_data],ignore_index=True)\n",
    "df_historical_data.drop_duplicates(inplace=True)\n",
    "df_historical_data.sort_values('year',inplace=True)\n",
    "df_historical_data"
   ]
  },
  {
   "cell_type": "markdown",
   "id": "3fc40ba6",
   "metadata": {},
   "source": [
    "<h3>1.3 Cleaning df_historical_data<h3>"
   ]
  },
  {
   "cell_type": "code",
   "execution_count": 162,
   "id": "476c53f2",
   "metadata": {},
   "outputs": [],
   "source": [
    "#Going through the dataset, found out that the match between sweden and austria had ended in a w/o, which could affect our prediction\n",
    "\n",
    "delete_index = df_historical_data[df_historical_data['home'].str.contains('Sweden') & df_historical_data['away'].str.contains('Austria')].index\n",
    "\n",
    "df_historical_data.drop(index=delete_index,inplace=True)"
   ]
  },
  {
   "cell_type": "code",
   "execution_count": 165,
   "id": "5229a086",
   "metadata": {},
   "outputs": [
    {
     "name": "stderr",
     "output_type": "stream",
     "text": [
      "<>:5: SyntaxWarning: invalid escape sequence '\\d'\n",
      "<>:5: SyntaxWarning: invalid escape sequence '\\d'\n",
      "C:\\Users\\user\\AppData\\Local\\Temp\\ipykernel_14128\\3710528733.py:5: SyntaxWarning: invalid escape sequence '\\d'\n",
      "  df_historical_data['score'] = df_historical_data['score'].str.replace('[^\\d–]','',regex=True)\n"
     ]
    }
   ],
   "source": [
    "#Score columns that do not have digits and \"-\" \n",
    "#df_historical_data[df_historical_data['score'].str.contains('(a.e.t.)')]\n",
    "\n",
    "#Replacing the score after removing (a.e.t.)At Extra Time\n",
    "df_historical_data['score'] = df_historical_data['score'].str.replace('[^\\d–]','',regex=True)"
   ]
  },
  {
   "cell_type": "code",
   "execution_count": 166,
   "id": "8e208c41",
   "metadata": {},
   "outputs": [],
   "source": [
    "#Cleaning score and home/away columns\n",
    "df_historical_data['home'] = df_historical_data['home'].str.strip()\n",
    "df_historical_data['away'] = df_historical_data['away'].str.strip()"
   ]
  },
  {
   "cell_type": "code",
   "execution_count": 167,
   "id": "af86ae9a",
   "metadata": {},
   "outputs": [],
   "source": [
    "#Splitting score columns into home and away score columns\n",
    "df_historical_data[['HomeGoals','AwayGoals']] = df_historical_data['score'].str.split('–',expand=True)"
   ]
  },
  {
   "cell_type": "code",
   "execution_count": 168,
   "id": "ce849a88",
   "metadata": {},
   "outputs": [],
   "source": [
    "df_historical_data.drop('score',axis=1,inplace=True)"
   ]
  },
  {
   "cell_type": "code",
   "execution_count": 169,
   "id": "591b6ed4",
   "metadata": {},
   "outputs": [
    {
     "data": {
      "text/html": [
       "<div>\n",
       "<style scoped>\n",
       "    .dataframe tbody tr th:only-of-type {\n",
       "        vertical-align: middle;\n",
       "    }\n",
       "\n",
       "    .dataframe tbody tr th {\n",
       "        vertical-align: top;\n",
       "    }\n",
       "\n",
       "    .dataframe thead th {\n",
       "        text-align: right;\n",
       "    }\n",
       "</style>\n",
       "<table border=\"1\" class=\"dataframe\">\n",
       "  <thead>\n",
       "    <tr style=\"text-align: right;\">\n",
       "      <th></th>\n",
       "      <th>home</th>\n",
       "      <th>away</th>\n",
       "      <th>year</th>\n",
       "      <th>HomeGoals</th>\n",
       "      <th>AwayGoals</th>\n",
       "    </tr>\n",
       "  </thead>\n",
       "  <tbody>\n",
       "    <tr>\n",
       "      <th>0</th>\n",
       "      <td>France</td>\n",
       "      <td>Mexico</td>\n",
       "      <td>1930</td>\n",
       "      <td>4</td>\n",
       "      <td>1</td>\n",
       "    </tr>\n",
       "    <tr>\n",
       "      <th>1</th>\n",
       "      <td>Argentina</td>\n",
       "      <td>France</td>\n",
       "      <td>1930</td>\n",
       "      <td>1</td>\n",
       "      <td>0</td>\n",
       "    </tr>\n",
       "    <tr>\n",
       "      <th>2</th>\n",
       "      <td>Chile</td>\n",
       "      <td>Mexico</td>\n",
       "      <td>1930</td>\n",
       "      <td>3</td>\n",
       "      <td>0</td>\n",
       "    </tr>\n",
       "    <tr>\n",
       "      <th>3</th>\n",
       "      <td>Chile</td>\n",
       "      <td>France</td>\n",
       "      <td>1930</td>\n",
       "      <td>1</td>\n",
       "      <td>0</td>\n",
       "    </tr>\n",
       "    <tr>\n",
       "      <th>4</th>\n",
       "      <td>Argentina</td>\n",
       "      <td>Mexico</td>\n",
       "      <td>1930</td>\n",
       "      <td>6</td>\n",
       "      <td>3</td>\n",
       "    </tr>\n",
       "    <tr>\n",
       "      <th>...</th>\n",
       "      <td>...</td>\n",
       "      <td>...</td>\n",
       "      <td>...</td>\n",
       "      <td>...</td>\n",
       "      <td>...</td>\n",
       "    </tr>\n",
       "    <tr>\n",
       "      <th>413</th>\n",
       "      <td>Argentina</td>\n",
       "      <td>Croatia</td>\n",
       "      <td>2018</td>\n",
       "      <td>0</td>\n",
       "      <td>3</td>\n",
       "    </tr>\n",
       "    <tr>\n",
       "      <th>412</th>\n",
       "      <td>Croatia</td>\n",
       "      <td>Nigeria</td>\n",
       "      <td>2018</td>\n",
       "      <td>2</td>\n",
       "      <td>0</td>\n",
       "    </tr>\n",
       "    <tr>\n",
       "      <th>411</th>\n",
       "      <td>Argentina</td>\n",
       "      <td>Iceland</td>\n",
       "      <td>2018</td>\n",
       "      <td>1</td>\n",
       "      <td>1</td>\n",
       "    </tr>\n",
       "    <tr>\n",
       "      <th>410</th>\n",
       "      <td>Australia</td>\n",
       "      <td>Peru</td>\n",
       "      <td>2018</td>\n",
       "      <td>0</td>\n",
       "      <td>2</td>\n",
       "    </tr>\n",
       "    <tr>\n",
       "      <th>409</th>\n",
       "      <td>Denmark</td>\n",
       "      <td>France</td>\n",
       "      <td>2018</td>\n",
       "      <td>0</td>\n",
       "      <td>0</td>\n",
       "    </tr>\n",
       "  </tbody>\n",
       "</table>\n",
       "<p>900 rows × 5 columns</p>\n",
       "</div>"
      ],
      "text/plain": [
       "          home     away  year HomeGoals AwayGoals\n",
       "0       France   Mexico  1930         4         1\n",
       "1    Argentina   France  1930         1         0\n",
       "2        Chile   Mexico  1930         3         0\n",
       "3        Chile   France  1930         1         0\n",
       "4    Argentina   Mexico  1930         6         3\n",
       "..         ...      ...   ...       ...       ...\n",
       "413  Argentina  Croatia  2018         0         3\n",
       "412    Croatia  Nigeria  2018         2         0\n",
       "411  Argentina  Iceland  2018         1         1\n",
       "410  Australia     Peru  2018         0         2\n",
       "409    Denmark   France  2018         0         0\n",
       "\n",
       "[900 rows x 5 columns]"
      ]
     },
     "execution_count": 169,
     "metadata": {},
     "output_type": "execute_result"
    }
   ],
   "source": [
    "df_historical_data"
   ]
  },
  {
   "cell_type": "code",
   "execution_count": 170,
   "id": "94b71e5e",
   "metadata": {},
   "outputs": [],
   "source": [
    "#Rename columns and change the datatypes\n",
    "df_historical_data.rename(columns={'home':'HomeTeam','away':'AwayTeam','year':'Year'},inplace=True)\n",
    "\n",
    "df_historical_data = df_historical_data.astype({'HomeGoals': int,'AwayGoals': int})"
   ]
  },
  {
   "cell_type": "code",
   "execution_count": 171,
   "id": "257c4534",
   "metadata": {},
   "outputs": [
    {
     "data": {
      "text/plain": [
       "HomeTeam     object\n",
       "AwayTeam     object\n",
       "Year          int64\n",
       "HomeGoals     int64\n",
       "AwayGoals     int64\n",
       "dtype: object"
      ]
     },
     "execution_count": 171,
     "metadata": {},
     "output_type": "execute_result"
    }
   ],
   "source": [
    "df_historical_data.dtypes"
   ]
  },
  {
   "cell_type": "code",
   "execution_count": 172,
   "id": "7ab37d56",
   "metadata": {},
   "outputs": [],
   "source": [
    "#Creating new column \"TotalGoals\"\n",
    "df_historical_data['TotalGoals'] = df_historical_data['HomeGoals'] + df_historical_data['AwayGoals']"
   ]
  },
  {
   "cell_type": "code",
   "execution_count": 173,
   "id": "845c2c40",
   "metadata": {},
   "outputs": [
    {
     "data": {
      "text/plain": [
       "np.int64(2548)"
      ]
     },
     "execution_count": 173,
     "metadata": {},
     "output_type": "execute_result"
    }
   ],
   "source": [
    "df_historical_data['TotalGoals'].sum()"
   ]
  },
  {
   "cell_type": "code",
   "execution_count": 174,
   "id": "ba27cda8",
   "metadata": {},
   "outputs": [
    {
     "data": {
      "text/html": [
       "<div>\n",
       "<style scoped>\n",
       "    .dataframe tbody tr th:only-of-type {\n",
       "        vertical-align: middle;\n",
       "    }\n",
       "\n",
       "    .dataframe tbody tr th {\n",
       "        vertical-align: top;\n",
       "    }\n",
       "\n",
       "    .dataframe thead th {\n",
       "        text-align: right;\n",
       "    }\n",
       "</style>\n",
       "<table border=\"1\" class=\"dataframe\">\n",
       "  <thead>\n",
       "    <tr style=\"text-align: right;\">\n",
       "      <th></th>\n",
       "      <th>HomeTeam</th>\n",
       "      <th>AwayTeam</th>\n",
       "      <th>Year</th>\n",
       "      <th>HomeGoals</th>\n",
       "      <th>AwayGoals</th>\n",
       "      <th>TotalGoals</th>\n",
       "    </tr>\n",
       "  </thead>\n",
       "  <tbody>\n",
       "    <tr>\n",
       "      <th>0</th>\n",
       "      <td>France</td>\n",
       "      <td>Mexico</td>\n",
       "      <td>1930</td>\n",
       "      <td>4</td>\n",
       "      <td>1</td>\n",
       "      <td>5</td>\n",
       "    </tr>\n",
       "    <tr>\n",
       "      <th>1</th>\n",
       "      <td>Argentina</td>\n",
       "      <td>France</td>\n",
       "      <td>1930</td>\n",
       "      <td>1</td>\n",
       "      <td>0</td>\n",
       "      <td>1</td>\n",
       "    </tr>\n",
       "    <tr>\n",
       "      <th>2</th>\n",
       "      <td>Chile</td>\n",
       "      <td>Mexico</td>\n",
       "      <td>1930</td>\n",
       "      <td>3</td>\n",
       "      <td>0</td>\n",
       "      <td>3</td>\n",
       "    </tr>\n",
       "    <tr>\n",
       "      <th>3</th>\n",
       "      <td>Chile</td>\n",
       "      <td>France</td>\n",
       "      <td>1930</td>\n",
       "      <td>1</td>\n",
       "      <td>0</td>\n",
       "      <td>1</td>\n",
       "    </tr>\n",
       "    <tr>\n",
       "      <th>4</th>\n",
       "      <td>Argentina</td>\n",
       "      <td>Mexico</td>\n",
       "      <td>1930</td>\n",
       "      <td>6</td>\n",
       "      <td>3</td>\n",
       "      <td>9</td>\n",
       "    </tr>\n",
       "    <tr>\n",
       "      <th>...</th>\n",
       "      <td>...</td>\n",
       "      <td>...</td>\n",
       "      <td>...</td>\n",
       "      <td>...</td>\n",
       "      <td>...</td>\n",
       "      <td>...</td>\n",
       "    </tr>\n",
       "    <tr>\n",
       "      <th>413</th>\n",
       "      <td>Argentina</td>\n",
       "      <td>Croatia</td>\n",
       "      <td>2018</td>\n",
       "      <td>0</td>\n",
       "      <td>3</td>\n",
       "      <td>3</td>\n",
       "    </tr>\n",
       "    <tr>\n",
       "      <th>412</th>\n",
       "      <td>Croatia</td>\n",
       "      <td>Nigeria</td>\n",
       "      <td>2018</td>\n",
       "      <td>2</td>\n",
       "      <td>0</td>\n",
       "      <td>2</td>\n",
       "    </tr>\n",
       "    <tr>\n",
       "      <th>411</th>\n",
       "      <td>Argentina</td>\n",
       "      <td>Iceland</td>\n",
       "      <td>2018</td>\n",
       "      <td>1</td>\n",
       "      <td>1</td>\n",
       "      <td>2</td>\n",
       "    </tr>\n",
       "    <tr>\n",
       "      <th>410</th>\n",
       "      <td>Australia</td>\n",
       "      <td>Peru</td>\n",
       "      <td>2018</td>\n",
       "      <td>0</td>\n",
       "      <td>2</td>\n",
       "      <td>2</td>\n",
       "    </tr>\n",
       "    <tr>\n",
       "      <th>409</th>\n",
       "      <td>Denmark</td>\n",
       "      <td>France</td>\n",
       "      <td>2018</td>\n",
       "      <td>0</td>\n",
       "      <td>0</td>\n",
       "      <td>0</td>\n",
       "    </tr>\n",
       "  </tbody>\n",
       "</table>\n",
       "<p>900 rows × 6 columns</p>\n",
       "</div>"
      ],
      "text/plain": [
       "      HomeTeam AwayTeam  Year  HomeGoals  AwayGoals  TotalGoals\n",
       "0       France   Mexico  1930          4          1           5\n",
       "1    Argentina   France  1930          1          0           1\n",
       "2        Chile   Mexico  1930          3          0           3\n",
       "3        Chile   France  1930          1          0           1\n",
       "4    Argentina   Mexico  1930          6          3           9\n",
       "..         ...      ...   ...        ...        ...         ...\n",
       "413  Argentina  Croatia  2018          0          3           3\n",
       "412    Croatia  Nigeria  2018          2          0           2\n",
       "411  Argentina  Iceland  2018          1          1           2\n",
       "410  Australia     Peru  2018          0          2           2\n",
       "409    Denmark   France  2018          0          0           0\n",
       "\n",
       "[900 rows x 6 columns]"
      ]
     },
     "execution_count": 174,
     "metadata": {},
     "output_type": "execute_result"
    }
   ],
   "source": [
    "df_historical_data"
   ]
  },
  {
   "cell_type": "markdown",
   "id": "3842d00c",
   "metadata": {},
   "source": [
    "<h1>Exploring Clean Dataframes<h1>"
   ]
  },
  {
   "cell_type": "code",
   "execution_count": 175,
   "id": "ca3dd24c",
   "metadata": {},
   "outputs": [],
   "source": [
    "df_historical_data.to_csv('clean_all_fifa_wc_resultsdata.csv', index= False)\n",
    "df_fixture2022.to_csv('clean_2022fifa_wc_fixtures.csv',index=False)"
   ]
  },
  {
   "cell_type": "markdown",
   "id": "97219da8",
   "metadata": {},
   "source": [
    "<h1>Verifications<h1>"
   ]
  },
  {
   "cell_type": "code",
   "execution_count": 136,
   "id": "91154d09",
   "metadata": {},
   "outputs": [
    {
     "name": "stdout",
     "output_type": "stream",
     "text": [
      "1930 18\n",
      "1934 17\n",
      "1938 18\n",
      "1950 22\n",
      "1954 26\n",
      "1958 35\n",
      "1962 32\n",
      "1966 32\n",
      "1970 32\n",
      "1974 38\n",
      "1978 38\n",
      "1982 52\n",
      "1986 52\n",
      "1990 52\n",
      "1994 52\n",
      "1998 64\n",
      "2002 64\n",
      "2006 64\n",
      "2010 64\n",
      "2014 64\n",
      "2018 64\n"
     ]
    }
   ],
   "source": [
    "#Verifying number of matches per year\n",
    "years = [1930,1934,1938,1950,1954,1958,1962,1966,1970,1974,1978,1982,1986,1990,1994,1998,2002,2006,2010,2014,2018]\n",
    "\n",
    "for year in years:\n",
    "    print(year, len(df_historical_data[df_historical_data['Year']==year]))\n"
   ]
  },
  {
   "cell_type": "code",
   "execution_count": 137,
   "id": "922f113d",
   "metadata": {},
   "outputs": [
    {
     "data": {
      "text/plain": [
       "year\n",
       "2022    64\n",
       "Name: count, dtype: int64"
      ]
     },
     "execution_count": 137,
     "metadata": {},
     "output_type": "execute_result"
    }
   ],
   "source": [
    "#Verify Number of matches per competition\n",
    "\n",
    "df_fixture2022['year'].value_counts()\n"
   ]
  },
  {
   "cell_type": "code",
   "execution_count": null,
   "id": "b74dbe3c",
   "metadata": {},
   "outputs": [],
   "source": []
  }
 ],
 "metadata": {
  "kernelspec": {
   "display_name": "Python 3 (ipykernel)",
   "language": "python",
   "name": "python3"
  },
  "language_info": {
   "codemirror_mode": {
    "name": "ipython",
    "version": 3
   },
   "file_extension": ".py",
   "mimetype": "text/x-python",
   "name": "python",
   "nbconvert_exporter": "python",
   "pygments_lexer": "ipython3",
   "version": "3.12.4"
  }
 },
 "nbformat": 4,
 "nbformat_minor": 5
}
